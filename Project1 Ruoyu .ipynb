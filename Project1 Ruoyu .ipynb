{
 "cells": [
  {
   "cell_type": "code",
   "execution_count": 5,
   "metadata": {},
   "outputs": [
    {
     "name": "stdout",
     "output_type": "stream",
     "text": [
      "choose an operation (Addition, Subtraction, Multiplication, Division, Factorial, Exponent):Addition\n",
      "the first value to add:2\n",
      "the second value to add:3\n",
      "the third value to add:4\n",
      "answer=9.0\n"
     ]
    }
   ],
   "source": [
    "operation=input(\"choose an operation (Addition, Subtraction, Multiplication, Division, Factorial, Exponent):\")\n",
    "# if the user chooses Addition\n",
    "if operation==\"Addition\":\n",
    "    value_1=float(input(\"the first value to add:\"))\n",
    "    value_2=float(input(\"the second value to add:\"))\n",
    "    value_3=float(input(\"the third value to add:\"))\n",
    "    print(\"answer=\"+ str(value_1+value_2+value_3))\n",
    "# if the user chooses Subtraction\n",
    "elif operation==\"Subtraction\":\n",
    "    value_1=float(input(\"minuend:\"))\n",
    "    value_2=float(input(\"subtrahend:\"))\n",
    "    print(\"answer=\"+ str(value_1-value_2))\n",
    "# if the user chooses Multiplication\n",
    "elif operation==\"Multiplication\":\n",
    "    value_1=float(input(\"the first value to multiply:\"))\n",
    "    value_2=float(input(\"the second value to multiply:\"))\n",
    "    value_3=float(input(\"the third value to multiply:\"))\n",
    "    v_4 = float(value_1*value_2)* value_3\n",
    "    print(\"answer=\"+ str(v_4))\n",
    "# if the user chooses Division\n",
    "elif operation==\"Division\":\n",
    "    value_1=float(input(\"the dividend:\"))\n",
    "    value_2=float(input(\"the divisor:\"))\n",
    "    print(\"answer=\"+ str(value_1/value_2))\n",
    "# if the user choose Factorial\n",
    "elif operation==\"Factorial\":\n",
    "    value_1=int(input(\"the positive integer that you want to take the factorial of: \"))\n",
    "    for fac in range (1, value_1, 1):\n",
    "        value_1=value_1*fac\n",
    "    print(\"answer=\"+str(value_1))\n",
    "# if the user choose other operation which is Exponent in this case \n",
    "else: \n",
    "    value_1=float(input(\"the base:\"))\n",
    "    value_2=float(input(\"the exponent:\"))\n",
    "    print(\"answer=\"+str(value_1**value_2))"
   ]
  },
  {
   "cell_type": "code",
   "execution_count": null,
   "metadata": {},
   "outputs": [],
   "source": []
  },
  {
   "cell_type": "code",
   "execution_count": null,
   "metadata": {},
   "outputs": [],
   "source": []
  },
  {
   "cell_type": "code",
   "execution_count": null,
   "metadata": {},
   "outputs": [],
   "source": []
  }
 ],
 "metadata": {
  "kernelspec": {
   "display_name": "Python 3",
   "language": "python",
   "name": "python3"
  },
  "language_info": {
   "codemirror_mode": {
    "name": "ipython",
    "version": 3
   },
   "file_extension": ".py",
   "mimetype": "text/x-python",
   "name": "python",
   "nbconvert_exporter": "python",
   "pygments_lexer": "ipython3",
   "version": "3.8.5"
  }
 },
 "nbformat": 4,
 "nbformat_minor": 4
}
